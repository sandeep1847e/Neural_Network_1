{
  "nbformat": 4,
  "nbformat_minor": 0,
  "metadata": {
    "colab": {
      "provenance": [],
      "gpuType": "T4",
      "authorship_tag": "ABX9TyP6R3qe+lSXwjjEcsY5UaLB",
      "include_colab_link": true
    },
    "kernelspec": {
      "name": "python3",
      "display_name": "Python 3"
    },
    "language_info": {
      "name": "python"
    },
    "accelerator": "GPU"
  },
  "cells": [
    {
      "cell_type": "markdown",
      "metadata": {
        "id": "view-in-github",
        "colab_type": "text"
      },
      "source": [
        "<a href=\"https://colab.research.google.com/github/sandeep1847e/pytorch-1/blob/main/Pytorch1.ipynb\" target=\"_parent\"><img src=\"https://colab.research.google.com/assets/colab-badge.svg\" alt=\"Open In Colab\"/></a>"
      ]
    },
    {
      "cell_type": "code",
      "execution_count": null,
      "metadata": {
        "colab": {
          "base_uri": "https://localhost:8080/"
        },
        "id": "C_QMlYrA5xhb",
        "outputId": "73c67076-e065-4811-d53b-8337447356d8"
      },
      "outputs": [
        {
          "output_type": "execute_result",
          "data": {
            "text/plain": [
              "9"
            ]
          },
          "metadata": {},
          "execution_count": 1
        }
      ],
      "source": [
        "3*3"
      ]
    },
    {
      "cell_type": "code",
      "source": [
        "import torch\n",
        "import numpy as np"
      ],
      "metadata": {
        "id": "dBFiZa0P54aT"
      },
      "execution_count": 8,
      "outputs": []
    },
    {
      "cell_type": "code",
      "source": [
        "# !pip list"
      ],
      "metadata": {
        "id": "G0iD4rJT6HG0"
      },
      "execution_count": 2,
      "outputs": []
    },
    {
      "cell_type": "code",
      "source": [
        "list1 = [[1,2,1,2,1],[2,3,2,3,2]]\n",
        "list1"
      ],
      "metadata": {
        "id": "juDxyhNL6b9p",
        "colab": {
          "base_uri": "https://localhost:8080/"
        },
        "outputId": "7a1b2e91-e6fc-41e4-e869-b027dea546a8"
      },
      "execution_count": 1,
      "outputs": [
        {
          "output_type": "execute_result",
          "data": {
            "text/plain": [
              "[[1, 2, 1, 2, 1], [2, 3, 2, 3, 2]]"
            ]
          },
          "metadata": {},
          "execution_count": 1
        }
      ]
    },
    {
      "cell_type": "code",
      "source": [],
      "metadata": {
        "id": "Ot7ZNqXt9KwX"
      },
      "execution_count": null,
      "outputs": []
    },
    {
      "cell_type": "markdown",
      "source": [
        "**Tensors**"
      ],
      "metadata": {
        "id": "DkxwT7869hwJ"
      }
    },
    {
      "cell_type": "code",
      "source": [
        "tensor2 = torch.randn(2,4)\n",
        "tensor2"
      ],
      "metadata": {
        "colab": {
          "base_uri": "https://localhost:8080/"
        },
        "id": "qy32umIo9kNF",
        "outputId": "041cb704-9f57-4718-df22-962ed6b7999c"
      },
      "execution_count": 6,
      "outputs": [
        {
          "output_type": "execute_result",
          "data": {
            "text/plain": [
              "tensor([[ 0.4570,  1.4104, -0.6084, -0.5779],\n",
              "        [-1.3672,  0.4459, -0.8948,  0.9578]])"
            ]
          },
          "metadata": {},
          "execution_count": 6
        }
      ]
    },
    {
      "cell_type": "markdown",
      "source": [
        "**tensors and numpy conversion**"
      ],
      "metadata": {
        "id": "Pw7Z4bKB-31u"
      }
    },
    {
      "cell_type": "code",
      "source": [
        "np1=np.random.randn(3,4)\n",
        "np1"
      ],
      "metadata": {
        "colab": {
          "base_uri": "https://localhost:8080/"
        },
        "id": "AxDHYqXD-fIn",
        "outputId": "fde7e6f4-c96b-4ab9-a2c5-c3152ddfb3b3"
      },
      "execution_count": 13,
      "outputs": [
        {
          "output_type": "execute_result",
          "data": {
            "text/plain": [
              "array([[ 0.09611371, -0.18441425, -0.2893769 , -0.73516417],\n",
              "       [ 1.0849576 ,  1.1897445 , -0.13273666,  0.81173974],\n",
              "       [-0.02587737, -1.30623085, -0.12805644, -0.66656931]])"
            ]
          },
          "metadata": {},
          "execution_count": 13
        }
      ]
    },
    {
      "cell_type": "code",
      "source": [
        "np1.dtype"
      ],
      "metadata": {
        "colab": {
          "base_uri": "https://localhost:8080/"
        },
        "id": "6NHboWvC_8jc",
        "outputId": "ec7a0f99-dde3-47f3-cce7-1c285df4563c"
      },
      "execution_count": 14,
      "outputs": [
        {
          "output_type": "execute_result",
          "data": {
            "text/plain": [
              "dtype('float64')"
            ]
          },
          "metadata": {},
          "execution_count": 14
        }
      ]
    },
    {
      "cell_type": "code",
      "source": [
        "np2torch = torch.tensor(np1)\n",
        "np2torch"
      ],
      "metadata": {
        "colab": {
          "base_uri": "https://localhost:8080/"
        },
        "id": "TkP3E7LZACeS",
        "outputId": "2228a060-55e0-4dbe-a33f-27ca715cadd0"
      },
      "execution_count": 15,
      "outputs": [
        {
          "output_type": "execute_result",
          "data": {
            "text/plain": [
              "tensor([[ 0.0961, -0.1844, -0.2894, -0.7352],\n",
              "        [ 1.0850,  1.1897, -0.1327,  0.8117],\n",
              "        [-0.0259, -1.3062, -0.1281, -0.6666]], dtype=torch.float64)"
            ]
          },
          "metadata": {},
          "execution_count": 15
        }
      ]
    },
    {
      "cell_type": "markdown",
      "source": [
        "# **reshaping tensors!**"
      ],
      "metadata": {
        "id": "6MRQyj8KAm0j"
      }
    },
    {
      "cell_type": "code",
      "source": [
        "np2torch.reshape(2,6)"
      ],
      "metadata": {
        "colab": {
          "base_uri": "https://localhost:8080/"
        },
        "id": "nQzM544pARUw",
        "outputId": "700712f3-6626-4a1b-e961-818831af0941"
      },
      "execution_count": 17,
      "outputs": [
        {
          "output_type": "execute_result",
          "data": {
            "text/plain": [
              "tensor([[ 0.0961, -0.1844, -0.2894, -0.7352,  1.0850,  1.1897],\n",
              "        [-0.1327,  0.8117, -0.0259, -1.3062, -0.1281, -0.6666]],\n",
              "       dtype=torch.float64)"
            ]
          },
          "metadata": {},
          "execution_count": 17
        }
      ]
    },
    {
      "cell_type": "markdown",
      "source": [
        "# Note : reshape and view update the dimensions!\n",
        "\n"
      ],
      "metadata": {
        "id": "VFo3GuWoBi7a"
      }
    },
    {
      "cell_type": "markdown",
      "source": [
        "# Math operations!"
      ],
      "metadata": {
        "id": "flgwGwqwCXhk"
      }
    },
    {
      "cell_type": "code",
      "source": [],
      "metadata": {
        "id": "eBFFl75sCdxW"
      },
      "execution_count": null,
      "outputs": []
    }
  ]
}