{
  "nbformat": 4,
  "nbformat_minor": 0,
  "metadata": {
    "colab": {
      "provenance": [],
      "gpuType": "T4",
      "authorship_tag": "ABX9TyMgO/4py3T33lgzCz86aXum",
      "include_colab_link": true
    },
    "kernelspec": {
      "name": "python3",
      "display_name": "Python 3"
    },
    "language_info": {
      "name": "python"
    },
    "accelerator": "GPU"
  },
  "cells": [
    {
      "cell_type": "markdown",
      "metadata": {
        "id": "view-in-github",
        "colab_type": "text"
      },
      "source": [
        "<a href=\"https://colab.research.google.com/github/sandeep1847e/pytorch-1/blob/main/Pytorch1.ipynb\" target=\"_parent\"><img src=\"https://colab.research.google.com/assets/colab-badge.svg\" alt=\"Open In Colab\"/></a>"
      ]
    },
    {
      "cell_type": "code",
      "execution_count": null,
      "metadata": {
        "colab": {
          "base_uri": "https://localhost:8080/"
        },
        "id": "C_QMlYrA5xhb",
        "outputId": "73c67076-e065-4811-d53b-8337447356d8"
      },
      "outputs": [
        {
          "output_type": "execute_result",
          "data": {
            "text/plain": [
              "9"
            ]
          },
          "metadata": {},
          "execution_count": 1
        }
      ],
      "source": [
        "3*3"
      ]
    },
    {
      "cell_type": "code",
      "source": [
        "import torch\n",
        "import numpy as np"
      ],
      "metadata": {
        "id": "dBFiZa0P54aT"
      },
      "execution_count": 8,
      "outputs": []
    },
    {
      "cell_type": "code",
      "source": [
        "# !pip list"
      ],
      "metadata": {
        "id": "G0iD4rJT6HG0"
      },
      "execution_count": 2,
      "outputs": []
    },
    {
      "cell_type": "code",
      "source": [
        "list1 = [[1,2,1,2,1],[2,3,2,3,2]]\n",
        "list1"
      ],
      "metadata": {
        "id": "juDxyhNL6b9p",
        "outputId": "7a1b2e91-e6fc-41e4-e869-b027dea546a8",
        "colab": {
          "base_uri": "https://localhost:8080/"
        }
      },
      "execution_count": 1,
      "outputs": [
        {
          "output_type": "execute_result",
          "data": {
            "text/plain": [
              "[[1, 2, 1, 2, 1], [2, 3, 2, 3, 2]]"
            ]
          },
          "metadata": {},
          "execution_count": 1
        }
      ]
    },
    {
      "cell_type": "code",
      "source": [],
      "metadata": {
        "id": "Ot7ZNqXt9KwX"
      },
      "execution_count": null,
      "outputs": []
    },
    {
      "cell_type": "markdown",
      "source": [
        "**Tensors**"
      ],
      "metadata": {
        "id": "DkxwT7869hwJ"
      }
    },
    {
      "cell_type": "code",
      "source": [
        "tensor2 = torch.randn(2,4)\n",
        "tensor2"
      ],
      "metadata": {
        "id": "qy32umIo9kNF",
        "outputId": "041cb704-9f57-4718-df22-962ed6b7999c",
        "colab": {
          "base_uri": "https://localhost:8080/"
        }
      },
      "execution_count": 6,
      "outputs": [
        {
          "output_type": "execute_result",
          "data": {
            "text/plain": [
              "tensor([[ 0.4570,  1.4104, -0.6084, -0.5779],\n",
              "        [-1.3672,  0.4459, -0.8948,  0.9578]])"
            ]
          },
          "metadata": {},
          "execution_count": 6
        }
      ]
    },
    {
      "cell_type": "markdown",
      "source": [
        "**tensors and numpy conversion**"
      ],
      "metadata": {
        "id": "Pw7Z4bKB-31u"
      }
    },
    {
      "cell_type": "code",
      "source": [
        "np1=np.random.randn(2,4)\n",
        "np1"
      ],
      "metadata": {
        "id": "AxDHYqXD-fIn",
        "outputId": "4bae3bdf-259c-4383-dd0f-a252d6e1b2e0",
        "colab": {
          "base_uri": "https://localhost:8080/"
        }
      },
      "execution_count": 9,
      "outputs": [
        {
          "output_type": "execute_result",
          "data": {
            "text/plain": [
              "array([[ 0.29659575, -0.21598138, -0.86634932,  0.53094284],\n",
              "       [ 1.19342102, -0.31025257, -0.61305796, -0.72071531]])"
            ]
          },
          "metadata": {},
          "execution_count": 9
        }
      ]
    },
    {
      "cell_type": "code",
      "source": [
        "np1.dtype"
      ],
      "metadata": {
        "id": "6NHboWvC_8jc",
        "outputId": "b8e2a77a-cbb8-4f1b-e82f-0e3bee294aeb",
        "colab": {
          "base_uri": "https://localhost:8080/"
        }
      },
      "execution_count": 10,
      "outputs": [
        {
          "output_type": "execute_result",
          "data": {
            "text/plain": [
              "dtype('float64')"
            ]
          },
          "metadata": {},
          "execution_count": 10
        }
      ]
    },
    {
      "cell_type": "code",
      "source": [
        "np2torch = torch.tensor(np1)\n",
        "np2torch"
      ],
      "metadata": {
        "id": "TkP3E7LZACeS",
        "outputId": "db019d6c-17f0-4b37-e0f3-1a58738c5204",
        "colab": {
          "base_uri": "https://localhost:8080/"
        }
      },
      "execution_count": 11,
      "outputs": [
        {
          "output_type": "execute_result",
          "data": {
            "text/plain": [
              "tensor([[ 0.2966, -0.2160, -0.8663,  0.5309],\n",
              "        [ 1.1934, -0.3103, -0.6131, -0.7207]], dtype=torch.float64)"
            ]
          },
          "metadata": {},
          "execution_count": 11
        }
      ]
    },
    {
      "cell_type": "code",
      "source": [],
      "metadata": {
        "id": "nQzM544pARUw"
      },
      "execution_count": null,
      "outputs": []
    }
  ]
}